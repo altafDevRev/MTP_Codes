{
 "cells": [
  {
   "cell_type": "markdown",
   "id": "cdace8c4",
   "metadata": {},
   "source": [
    "# Codes for Markowitz model\n",
    "\n",
    "### Name : Altaf Ahmad\n",
    "### Roll no: 18MA20005"
   ]
  },
  {
   "cell_type": "markdown",
   "id": "78ff95ff",
   "metadata": {},
   "source": [
    "**Q1**. Suppose you want to invest Rs 100000.00 in the assets of your data set. Prepare an optimal portfolio of the assets corresponding to each of the following Markowitz, models. Find :\n",
    "(a) Optimal portfolio\n",
    "\n",
    "(b)investment strategy(How much to invest in which asset to get minimum risk)\n",
    "\n",
    "(c) Total return and variance risk at the optimal point\n",
    "\n",
    "**A.  Markowitz Model I: minimize $w^T \\Omega \\; w $   subject to  $e^Tw=1$, short selling is allowed.**"
   ]
  },
  {
   "cell_type": "markdown",
   "id": "781c6647",
   "metadata": {},
   "source": [
    "First we have to get the Rate of Return of the assets, Covariance matrix and expected return vector (m).\n",
    "Here, \n",
    "$$\n",
    "w = col(w_1, w_2, ... , w_n) \\\\\n",
    "e^T = (1,1,...,1) \\in \\mathbf{R}^n \\\\\n",
    "\\text{Then, } w_1 + w_2 + w_3 + ... + w_n = 1 \\text{ can be expressed as } e^T w = 1 \\\\\n",
    "\\text{Expected Return vector : } m^T = (\\mu_1, \\mu_2, ... ,\\mu_n) \\text{, where } \\mu_i = E(r_i) \\\\\n",
    "\\text{Covariance Matrix : } C = [c_{ij}] \\;\\; c_{ij} = cov(r_i, r_j) , (i,j = 1,2,...,n)\\; \\; , c_{ii} = \\sigma_i^2 , (i=1,2,...,n)\n",
    "$$"
   ]
  },
  {
   "cell_type": "code",
   "execution_count": 1,
   "id": "8959bb5a",
   "metadata": {},
   "outputs": [],
   "source": [
    "import pandas as pd\n",
    "import numpy as np\n",
    "import os\n",
    "import glob\n",
    "import quadprog\n",
    "import matplotlib.pyplot as plt"
   ]
  },
  {
   "cell_type": "code",
   "execution_count": 2,
   "id": "ff2c92d1",
   "metadata": {},
   "outputs": [
    {
     "name": "stdout",
     "output_type": "stream",
     "text": [
      "/home/altaf/10th Sem/mtp -2/Codes/526721.csv\n",
      "Code of the Asset: \n",
      "/home/altaf/10th Sem/mtp -2/Codes/541729.csv\n",
      "Code of the Asset: \n",
      "/home/altaf/10th Sem/mtp -2/Codes/524667.csv\n",
      "Code of the Asset: \n",
      "/home/altaf/10th Sem/mtp -2/Codes/513430.csv\n",
      "Code of the Asset: \n",
      "/home/altaf/10th Sem/mtp -2/Codes/500285.csv\n",
      "Code of the Asset: \n",
      "/home/altaf/10th Sem/mtp -2/Codes/500112.csv\n",
      "Code of the Asset: \n",
      "/home/altaf/10th Sem/mtp -2/Codes/519156.csv\n",
      "Code of the Asset: \n",
      "/home/altaf/10th Sem/mtp -2/Codes/523618.csv\n",
      "Code of the Asset: \n",
      "/home/altaf/10th Sem/mtp -2/Codes/532725.csv\n",
      "Code of the Asset: \n",
      "/home/altaf/10th Sem/mtp -2/Codes/543280.csv\n",
      "Code of the Asset: \n",
      "/home/altaf/10th Sem/mtp -2/Codes/507685.csv\n",
      "Code of the Asset: \n",
      "/home/altaf/10th Sem/mtp -2/Codes/532475.csv\n",
      "Code of the Asset: \n",
      "/home/altaf/10th Sem/mtp -2/Codes/540750.csv\n",
      "Code of the Asset: \n",
      "/home/altaf/10th Sem/mtp -2/Codes/533278.csv\n",
      "Code of the Asset: \n",
      "/home/altaf/10th Sem/mtp -2/Codes/531508.csv\n",
      "Code of the Asset: \n",
      "/home/altaf/10th Sem/mtp -2/Codes/533269.csv\n",
      "Code of the Asset: \n",
      "/home/altaf/10th Sem/mtp -2/Codes/509966.csv\n",
      "Code of the Asset: \n",
      "/home/altaf/10th Sem/mtp -2/Codes/511509.csv\n",
      "Code of the Asset: \n",
      "/home/altaf/10th Sem/mtp -2/Codes/532234.csv\n",
      "Code of the Asset: \n",
      "/home/altaf/10th Sem/mtp -2/Codes/532493.csv\n",
      "Code of the Asset: \n",
      "/home/altaf/10th Sem/mtp -2/Codes/517354.csv\n",
      "Code of the Asset: \n",
      "/home/altaf/10th Sem/mtp -2/Codes/532454.csv\n",
      "Code of the Asset: \n",
      "/home/altaf/10th Sem/mtp -2/Codes/500870.csv\n",
      "Code of the Asset: \n",
      "/home/altaf/10th Sem/mtp -2/Codes/500875.csv\n",
      "Code of the Asset: \n",
      "/home/altaf/10th Sem/mtp -2/Codes/507155.csv\n",
      "Code of the Asset: \n",
      "/home/altaf/10th Sem/mtp -2/Codes/502168.csv\n",
      "Code of the Asset: \n",
      "/home/altaf/10th Sem/mtp -2/Codes/500463.csv\n",
      "Code of the Asset: \n",
      "/home/altaf/10th Sem/mtp -2/Codes/526441.csv\n",
      "Code of the Asset: \n",
      "/home/altaf/10th Sem/mtp -2/Codes/504093.csv\n",
      "Code of the Asset: \n",
      "/home/altaf/10th Sem/mtp -2/Codes/500575.csv\n",
      "Code of the Asset: \n"
     ]
    }
   ],
   "source": [
    "# we extract all the Open Price from the dataset \n",
    "path = os.getcwd()\n",
    "csv_files = glob.glob(os.path.join(path, \"*.csv\"))\n",
    "retu = np.array([[]]) \n",
    "# loop over the list of csv files\n",
    "for f in csv_files:\n",
    "    # read the csv file\n",
    "    df = pd.read_csv(f)\n",
    "    print(f)\n",
    "    print('Code of the Asset:', f[58:])\n",
    "    retEach = np.array([])\n",
    "    df = df[['Date','Open Price']][:101]\n",
    "    for i in range(1,101) :\n",
    "        val = (df['Open Price'][i] - df['Open Price'][i-1])/ df['Open Price'][i-1]\n",
    "        retEach = np.append(retEach, val)\n",
    "    retu = np.append(retu, retEach)"
   ]
  },
  {
   "cell_type": "code",
   "execution_count": 3,
   "id": "45acd2f9",
   "metadata": {},
   "outputs": [],
   "source": [
    "ret1 = retu.reshape(30,100)\n",
    "covarianceMatrix = np.cov(ret1)\n",
    "m = np.array([])\n",
    "for i in range(30):\n",
    "    m = np.append(m, np.mean(ret1[i]))\n",
    "m = m.reshape(30,1) # Expected Return Vector    \n",
    "covInverse = np.linalg.pinv(covarianceMatrix)\n",
    "e = np.ones(30).reshape(30,1)"
   ]
  },
  {
   "cell_type": "code",
   "execution_count": 4,
   "id": "7767973f",
   "metadata": {},
   "outputs": [
    {
     "data": {
      "text/plain": [
       "array([[ 0.03488372, -0.00561798, -0.08022599, ...,  0.        ,\n",
       "         0.04179104, -0.08452722],\n",
       "       [ 0.00078134,  0.01258635, -0.01787383, ...,  0.01888412,\n",
       "        -0.03399326, -0.05023329],\n",
       "       [ 0.02944876, -0.02637147, -0.06473037, ..., -0.00603418,\n",
       "        -0.01590818, -0.04430836],\n",
       "       ...,\n",
       "       [ 0.12280702, -0.0703125 ,  0.1092437 , ..., -0.07407407,\n",
       "         0.024     ,  0.0546875 ],\n",
       "       [-0.00101626, -0.00712106, -0.01639344, ..., -0.02715232,\n",
       "        -0.01633764, -0.01557093],\n",
       "       [-0.00817641, -0.01274044, -0.01315789, ..., -0.01963746,\n",
       "        -0.02773498, -0.0118859 ]])"
      ]
     },
     "execution_count": 4,
     "metadata": {},
     "output_type": "execute_result"
    }
   ],
   "source": [
    "ret1"
   ]
  },
  {
   "cell_type": "markdown",
   "id": "ce813a63",
   "metadata": {},
   "source": [
    "We know that a portfolio with minimum risk has weights given by : \n",
    "$$\n",
    "w = \\frac{C^{-1}e}{e^TC^{-1}e}\n",
    "$$"
   ]
  },
  {
   "cell_type": "code",
   "execution_count": 5,
   "id": "950775ef",
   "metadata": {},
   "outputs": [],
   "source": [
    "w1 = np.matmul(covInverse, e)/np.matmul(np.matmul(e.T, covInverse),e)[0][0]"
   ]
  },
  {
   "cell_type": "code",
   "execution_count": 6,
   "id": "6aba7115",
   "metadata": {},
   "outputs": [
    {
     "name": "stdout",
     "output_type": "stream",
     "text": [
      "Optimal portfolio : \n",
      "[[ 0.02500582]\n",
      " [ 0.00915283]\n",
      " [-0.01831587]\n",
      " [ 0.02109533]\n",
      " [-0.04228298]\n",
      " [ 0.10855476]\n",
      " [-0.00063754]\n",
      " [ 0.07376112]\n",
      " [ 0.08724174]\n",
      " [ 0.00566116]\n",
      " [ 0.1366442 ]\n",
      " [-0.03282101]\n",
      " [-0.02861861]\n",
      " [-0.03075123]\n",
      " [ 0.03287929]\n",
      " [ 0.00048031]\n",
      " [ 0.08934613]\n",
      " [ 0.03307092]\n",
      " [-0.13800597]\n",
      " [-0.04518024]\n",
      " [-0.03046644]\n",
      " [ 0.11822033]\n",
      " [ 0.26606891]\n",
      " [ 0.24781095]\n",
      " [ 0.02324435]\n",
      " [ 0.01374473]\n",
      " [-0.0046624 ]\n",
      " [ 0.01456032]\n",
      " [ 0.06813642]\n",
      " [-0.00293733]]\n",
      "Investment Strategy :  [[  2500.58169139]\n",
      " [   915.28336379]\n",
      " [ -1831.58744691]\n",
      " [  2109.53301777]\n",
      " [ -4228.29755919]\n",
      " [ 10855.47636143]\n",
      " [   -63.75412547]\n",
      " [  7376.11173622]\n",
      " [  8724.1744502 ]\n",
      " [   566.11627783]\n",
      " [ 13664.42048773]\n",
      " [ -3282.10131019]\n",
      " [ -2861.86073148]\n",
      " [ -3075.12271422]\n",
      " [  3287.92889166]\n",
      " [    48.03083868]\n",
      " [  8934.61271143]\n",
      " [  3307.09159613]\n",
      " [-13800.59723172]\n",
      " [ -4518.02358987]\n",
      " [ -3046.64398254]\n",
      " [ 11822.03336833]\n",
      " [ 26606.8910105 ]\n",
      " [ 24781.09453239]\n",
      " [  2324.43466867]\n",
      " [  1374.47268335]\n",
      " [  -466.24043877]\n",
      " [  1456.03176419]\n",
      " [  6813.64237223]\n",
      " [  -293.73269354]]\n",
      "Expected Return :  -0.0008846405038495706\n",
      "Expected Risk :  4.525107717431545e-05\n"
     ]
    }
   ],
   "source": [
    "w1 = np.matmul(covInverse, e)/np.matmul(np.matmul(e.T, covInverse),e)[0][0]\n",
    "print(\"Optimal portfolio : \")\n",
    "print(w1)\n",
    "mu1 = np.matmul(m.T,w1)[0][0]\n",
    "print(\"Investment Strategy : \", 100000*w1)\n",
    "print(\"Expected Return : \", mu1)\n",
    "risk1 = np.matmul((np.matmul(w1.T,covarianceMatrix)),w1)[0][0]\n",
    "print(\"Expected Risk : \", risk1)"
   ]
  },
  {
   "cell_type": "code",
   "execution_count": 7,
   "id": "990053d4",
   "metadata": {},
   "outputs": [
    {
     "data": {
      "text/plain": [
       "array([[ 0.02500582],\n",
       "       [ 0.00915283],\n",
       "       [-0.01831587],\n",
       "       [ 0.02109533],\n",
       "       [-0.04228298],\n",
       "       [ 0.10855476],\n",
       "       [-0.00063754],\n",
       "       [ 0.07376112],\n",
       "       [ 0.08724174],\n",
       "       [ 0.00566116],\n",
       "       [ 0.1366442 ],\n",
       "       [-0.03282101],\n",
       "       [-0.02861861],\n",
       "       [-0.03075123],\n",
       "       [ 0.03287929],\n",
       "       [ 0.00048031],\n",
       "       [ 0.08934613],\n",
       "       [ 0.03307092],\n",
       "       [-0.13800597],\n",
       "       [-0.04518024],\n",
       "       [-0.03046644],\n",
       "       [ 0.11822033],\n",
       "       [ 0.26606891],\n",
       "       [ 0.24781095],\n",
       "       [ 0.02324435],\n",
       "       [ 0.01374473],\n",
       "       [-0.0046624 ],\n",
       "       [ 0.01456032],\n",
       "       [ 0.06813642],\n",
       "       [-0.00293733]])"
      ]
     },
     "execution_count": 7,
     "metadata": {},
     "output_type": "execute_result"
    }
   ],
   "source": [
    "w1"
   ]
  },
  {
   "cell_type": "markdown",
   "id": "c2cfd2b7",
   "metadata": {},
   "source": [
    "**B. Markowitz Model II: minimize wTΩ w   subject to  eTw=1, short selling is not allowed.** \n",
    "\n",
    "Here, we will use quadprog library of python to solve the quadratic programming problem"
   ]
  },
  {
   "cell_type": "code",
   "execution_count": 8,
   "id": "46a8dd3c",
   "metadata": {},
   "outputs": [],
   "source": [
    "def quadprog_solve_qp(P, q, G , h, A=None, b=None):\n",
    "    qp_G = .5 * (P + P.T)\n",
    "    qp_a = -q\n",
    "    if A is not None and G is not None:\n",
    "        qp_C = -np.vstack([A, G]).T\n",
    "        qp_b = -np.hstack([b, h])\n",
    "        meq = A.shape[0]\n",
    "    else:  \n",
    "        qp_C = -A.T\n",
    "        qp_b = -b\n",
    "        meq = A.shape[0]\n",
    "    return quadprog.solve_qp(qp_G, qp_a, qp_C, qp_b, meq)[0]\n",
    "\n",
    "def markovitz_method(covarianceMat, m, mu = None, short_allowed = True,  return_exact = False) : \n",
    "    A = np.ones(30).reshape(1,30)\n",
    "    b = np.ones((1))\n",
    "    q = np.zeros(30).reshape(30,)\n",
    "    P = covarianceMat\n",
    "    G = None\n",
    "    h = None\n",
    "    if not short_allowed:\n",
    "        G = -np.eye(30)\n",
    "        h = np.zeros(30).reshape(30,)\n",
    "    if mu :\n",
    "        if return_exact :\n",
    "            A = np.vstack([A, m.T])\n",
    "            b = np.hstack([b, mu])\n",
    "        else :\n",
    "            if G is not None :\n",
    "                G = np.vstack([G, -m.T])\n",
    "                h = -mu\n",
    "            else:\n",
    "                G = -m.T\n",
    "                h = -mu\n",
    "    return quadprog_solve_qp(P,q,G,h,A,b)"
   ]
  },
  {
   "cell_type": "code",
   "execution_count": 9,
   "id": "1aad228d",
   "metadata": {},
   "outputs": [],
   "source": [
    "w2 = markovitz_method(covarianceMatrix, m,  short_allowed=False)"
   ]
  },
  {
   "cell_type": "code",
   "execution_count": 26,
   "id": "ac7593f9",
   "metadata": {},
   "outputs": [
    {
     "name": "stdout",
     "output_type": "stream",
     "text": [
      "Optimal portfolio : \n",
      "[ 8.97168036e-19 -1.88179540e-17  2.48555748e-02 -2.83850022e-18\n",
      "  2.10410933e-02  0.00000000e+00 -9.93044117e-18  2.62666585e-01\n",
      "  1.80012395e-02  3.58232877e-02  4.91017473e-02  1.76373423e-17\n",
      "  2.07024480e-02  2.97588092e-02  6.81060676e-19  8.62438227e-19\n",
      "  3.25577498e-21 -1.47660920e-17  1.68096992e-18  2.18095469e-17\n",
      "  1.43655300e-02  1.60224413e-01  9.25820468e-02 -2.24067877e-17\n",
      "  1.14954280e-17  3.36218247e-03 -2.04349365e-18  1.01980892e-01\n",
      "  1.99560461e-17  1.65534151e-01]\n",
      "Investment Strategy :  [    0.        -0.      2485.5575    -0.      2104.1093     0.\n",
      "    -0.     26266.6585  1800.1239  3582.3288  4910.1747     0.\n",
      "  2070.2448  2975.8809     0.         0.         0.        -0.\n",
      "     0.         0.      1436.553  16022.4413  9258.2047    -0.\n",
      "     0.       336.2182    -0.     10198.0892     0.     16553.4151]\n",
      "Expected Return :  [0.00012302]\n",
      "Expected Risk :  6.158644944516882e-05\n"
     ]
    }
   ],
   "source": [
    "print(\"Optimal portfolio : \")\n",
    "print(w2)\n",
    "mu2 = np.matmul(m.T,w2)\n",
    "print(\"Investment Strategy : \", np.around(100000*w2,4))\n",
    "print(\"Expected Return : \", mu2)\n",
    "risk2 = np.matmul((np.matmul(w2.T,covarianceMatrix)),w2)\n",
    "print(\"Expected Risk : \", risk2)"
   ]
  },
  {
   "cell_type": "markdown",
   "id": "392bc3a5",
   "metadata": {},
   "source": [
    "**C : Markowitz Model III: minimize $w^T \\Omega w$   subject to  $e^T w=1$, and total return is exactly 5%,  short selling is allowed.**"
   ]
  },
  {
   "cell_type": "code",
   "execution_count": 15,
   "id": "7a6aed6f",
   "metadata": {},
   "outputs": [],
   "source": [
    "vec1 = np.matmul(covInverse, m)\n",
    "vec2 = np.matmul(covInverse, e)\n",
    "mCe = np.matmul(np.matmul(m.T, covInverse),e)[0][0]\n",
    "mCm = np.matmul(np.matmul(m.T, covInverse),m)[0][0]\n",
    "eCm = np.matmul(np.matmul(e.T, covInverse),m)[0][0]\n",
    "eCe = np.matmul(np.matmul(e.T, covInverse),e)[0][0]\n",
    "mu = 0.05\n",
    "m1 = np.array([[mu,mCe], [1,eCe]])\n",
    "m2 = np.array([[mCm,mu], [eCm,1]])\n",
    "m3 = np.array([[mCm,mCe], [eCm,eCe]])\n",
    "w3 = (np.linalg.det(m1)*vec1 + np.linalg.det(m2)*vec2)/np.linalg.det(m3) ## C part"
   ]
  },
  {
   "cell_type": "code",
   "execution_count": 27,
   "id": "7b46618f",
   "metadata": {
    "scrolled": true
   },
   "outputs": [
    {
     "name": "stdout",
     "output_type": "stream",
     "text": [
      "Optimal portfolio : \n",
      "[[ 0.04559132]\n",
      " [-0.0150951 ]\n",
      " [ 0.12211014]\n",
      " [ 0.08734582]\n",
      " [ 0.72647659]\n",
      " [ 0.29614853]\n",
      " [ 0.49998656]\n",
      " [ 0.94426919]\n",
      " [ 0.39615762]\n",
      " [ 0.34940615]\n",
      " [-0.54516756]\n",
      " [ 2.30322724]\n",
      " [ 0.10569571]\n",
      " [ 1.03372053]\n",
      " [-0.59356757]\n",
      " [ 0.79380331]\n",
      " [ 0.02135442]\n",
      " [-0.24118283]\n",
      " [-0.6839617 ]\n",
      " [-1.08248554]\n",
      " [-2.14000911]\n",
      " [ 1.48541575]\n",
      " [-0.73855218]\n",
      " [-1.25210886]\n",
      " [ 0.59874002]\n",
      " [ 0.05873757]\n",
      " [ 0.60080509]\n",
      " [ 0.89942029]\n",
      " [-1.75426455]\n",
      " [-1.32201686]]\n",
      "Investment Strategy :  [[   4559.13201   ]\n",
      " [  -1509.50968275]\n",
      " [  12211.0143583 ]\n",
      " [   8734.58186691]\n",
      " [  72647.65850103]\n",
      " [  29614.85330612]\n",
      " [  49998.65626516]\n",
      " [  94426.91935144]\n",
      " [  39615.76174064]\n",
      " [  34940.61515216]\n",
      " [ -54516.755604  ]\n",
      " [ 230322.72415439]\n",
      " [  10569.57119987]\n",
      " [ 103372.05284121]\n",
      " [ -59356.75686734]\n",
      " [  79380.3309216 ]\n",
      " [   2135.44158345]\n",
      " [ -24118.2832766 ]\n",
      " [ -68396.17013456]\n",
      " [-108248.55391819]\n",
      " [-214000.91117947]\n",
      " [ 148541.57542424]\n",
      " [ -73855.21820828]\n",
      " [-125210.88633198]\n",
      " [  59874.00160157]\n",
      " [   5873.75689263]\n",
      " [  60080.50925388]\n",
      " [  89942.02909569]\n",
      " [-175426.45465838]\n",
      " [-132201.68565873]]\n",
      "Expected Return :  0.05000000000000005\n",
      "Expected Risk :  0.0052482440942589635\n"
     ]
    }
   ],
   "source": [
    "print(\"Optimal portfolio : \")\n",
    "print(w3)\n",
    "print(\"Investment Strategy : \", 100000*w3)\n",
    "mu3 = np.matmul(m.T,w3)[0][0]\n",
    "print(\"Expected Return : \", mu3)\n",
    "risk3 = np.matmul((np.matmul(w3.T,covarianceMatrix)),w3)[0][0]\n",
    "print(\"Expected Risk : \", risk3)"
   ]
  },
  {
   "cell_type": "markdown",
   "id": "92473de3",
   "metadata": {},
   "source": [
    "**D : Markowitz Model IV: minimize $w^T \\Omega w$   subject to  $e^T w=1$, and total return is  a minimum of 5%,  short selling is allowed.**"
   ]
  },
  {
   "cell_type": "code",
   "execution_count": 17,
   "id": "9d41e69f",
   "metadata": {},
   "outputs": [],
   "source": [
    "w4 = markovitz_method(covarianceMatrix, m,mu=0.05,  short_allowed=True, return_exact=True)"
   ]
  },
  {
   "cell_type": "code",
   "execution_count": 28,
   "id": "21bd6d41",
   "metadata": {},
   "outputs": [
    {
     "name": "stdout",
     "output_type": "stream",
     "text": [
      "Optimal portfolio : \n",
      "[ 0.04559132 -0.0150951   0.12211014  0.08734582  0.72647659  0.29614853\n",
      "  0.49998656  0.94426919  0.39615762  0.34940615 -0.54516756  2.30322724\n",
      "  0.10569571  1.03372053 -0.59356757  0.79380331  0.02135442 -0.24118283\n",
      " -0.6839617  -1.08248554 -2.14000911  1.48541575 -0.73855218 -1.25210886\n",
      "  0.59874002  0.05873757  0.60080509  0.89942029 -1.75426455 -1.32201686]\n",
      "Investment Strategy :  [[  1374.47268335]\n",
      " [  -293.73269354]\n",
      " [  1456.03176419]\n",
      " [ -4228.29755919]\n",
      " [  2109.53301777]\n",
      " [   566.11627783]\n",
      " [    48.03083868]\n",
      " [ 26606.8910105 ]\n",
      " [  2324.43466867]\n",
      " [  3287.92889166]\n",
      " [  8724.1744502 ]\n",
      " [-13800.59723172]\n",
      " [  3307.09159613]\n",
      " [  6813.64237223]\n",
      " [   -63.75412547]\n",
      " [   915.28336379]\n",
      " [  -466.24043877]\n",
      " [ -4518.02358987]\n",
      " [  7376.11173622]\n",
      " [ -1831.58744691]\n",
      " [ 10855.47636143]\n",
      " [ 13664.42048773]\n",
      " [  8934.61271143]\n",
      " [ -3075.12271422]\n",
      " [ -3282.10131019]\n",
      " [  2500.58169139]\n",
      " [ -2861.86073148]\n",
      " [ 11822.03336833]\n",
      " [ -3046.64398254]\n",
      " [ 24781.09453239]]\n",
      "Expected Return :  [0.05]\n",
      "Expected Risk :  0.005248244094258951\n"
     ]
    }
   ],
   "source": [
    "print(\"Optimal portfolio : \")\n",
    "print(w4)\n",
    "mu4 = np.matmul(m.T,w4)\n",
    "print(\"Investment Strategy : \", 100000*w1)\n",
    "print(\"Expected Return : \", mu4)\n",
    "risk4 = np.matmul((np.matmul(w4.T,covarianceMatrix)),w4)\n",
    "print(\"Expected Risk : \", risk4)"
   ]
  },
  {
   "cell_type": "markdown",
   "id": "d14e24d5",
   "metadata": {},
   "source": [
    "**Q2: Draw the Markowitz curve and locate the minimum variance point in the turn.**"
   ]
  },
  {
   "cell_type": "code",
   "execution_count": 20,
   "id": "5c5585e1",
   "metadata": {},
   "outputs": [
    {
     "data": {
      "text/plain": [
       "[<matplotlib.lines.Line2D at 0x7f8e75e2f4c0>]"
      ]
     },
     "execution_count": 20,
     "metadata": {},
     "output_type": "execute_result"
    },
    {
     "data": {
      "image/png": "[encoded data removed]",
      "text/plain": [
       "<Figure size 640x480 with 1 Axes>"
      ]
     },
     "metadata": {},
     "output_type": "display_data"
    }
   ],
   "source": [
    "y = np.arange(-0.003, 0.004, 0.0001)\n",
    "x = np.zeros(y.shape)\n",
    "for i, mu in enumerate(y):\n",
    "    wCalc = markovitz_method(covarianceMatrix, m,mu=y[i], return_exact=True)\n",
    "    x[i] = np.matmul((np.matmul(wCalc.T,covarianceMatrix)),wCalc)\n",
    "plt.plot(x,y)"
   ]
  },
  {
   "cell_type": "markdown",
   "id": "1ffac040",
   "metadata": {},
   "source": [
    "As we can see from the figure, the minimum variance point can be taken as :"
   ]
  },
  {
   "cell_type": "code",
   "execution_count": 21,
   "id": "d74200a3",
   "metadata": {},
   "outputs": [],
   "source": [
    "ind = np.where(x == np.amin(x))"
   ]
  },
  {
   "cell_type": "code",
   "execution_count": 23,
   "id": "40252ce9",
   "metadata": {},
   "outputs": [
    {
     "name": "stdout",
     "output_type": "stream",
     "text": [
      "Minimum variance is :  -0.0009000000000000037  and risk is  4.525155123480506e-05\n"
     ]
    }
   ],
   "source": [
    "print(\"Minimum variance is : \", y[ind[0][0]], \" and risk is \", x[ind[0][0]])"
   ]
  }
 ],
 "metadata": {
  "kernelspec": {
   "display_name": "Python 3 (ipykernel)",
   "language": "python",
   "name": "python3"
  },
  "language_info": {
   "codemirror_mode": {
    "name": "ipython",
    "version": 3
   },
   "file_extension": ".py",
   "mimetype": "text/x-python",
   "name": "python",
   "nbconvert_exporter": "python",
   "pygments_lexer": "ipython3",
   "version": "3.8.10"
  }
 },
 "nbformat": 4,
 "nbformat_minor": 5
}
